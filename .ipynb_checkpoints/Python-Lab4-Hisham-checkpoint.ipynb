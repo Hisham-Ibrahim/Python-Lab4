{
 "cells": [
  {
   "cell_type": "markdown",
   "id": "d8508811",
   "metadata": {},
   "source": [
    "# Python-Lab4\n"
   ]
  },
  {
   "cell_type": "markdown",
   "id": "53c10198",
   "metadata": {},
   "source": [
    "## Functions\n"
   ]
  },
  {
   "cell_type": "markdown",
   "id": "51ee8a76",
   "metadata": {},
   "source": [
    "Create a function that takes one parameter of type int, then it prints out the result formatted like the following pattern (if we give it 5 for example):\n",
    "\n",
    "5 4 3 2 1\n",
    "\n",
    "4 3 2 1\n",
    "\n",
    "3 2 1\n",
    "\n",
    "2 1\n",
    "\n",
    "1"
   ]
  },
  {
   "cell_type": "code",
   "execution_count": 94,
   "id": "e7d2a1ab",
   "metadata": {},
   "outputs": [],
   "source": [
    "def Myfunc (n) : #define function\n",
    "    for x in range (0,n+1): #starting from 0 and finish at n+1 due to python index starts from 0\n",
    "        for j in range (n-x,0,-1): #inner loop that goes through each \"x\" and start to loop in reverse\n",
    "            print(j , end=' ')\n",
    "        print(\"\\n\")"
   ]
  },
  {
   "cell_type": "code",
   "execution_count": 95,
   "id": "9fcba1f9",
   "metadata": {},
   "outputs": [
    {
     "name": "stdout",
     "output_type": "stream",
     "text": [
      "5 4 3 2 1 \n",
      "\n",
      "4 3 2 1 \n",
      "\n",
      "3 2 1 \n",
      "\n",
      "2 1 \n",
      "\n",
      "1 \n",
      "\n",
      "\n",
      "\n"
     ]
    }
   ],
   "source": [
    "Myfunc(5)"
   ]
  },
  {
   "cell_type": "code",
   "execution_count": null,
   "id": "649a0759",
   "metadata": {},
   "outputs": [],
   "source": []
  }
 ],
 "metadata": {
  "kernelspec": {
   "display_name": "Python 3 (ipykernel)",
   "language": "python",
   "name": "python3"
  },
  "language_info": {
   "codemirror_mode": {
    "name": "ipython",
    "version": 3
   },
   "file_extension": ".py",
   "mimetype": "text/x-python",
   "name": "python",
   "nbconvert_exporter": "python",
   "pygments_lexer": "ipython3",
   "version": "3.9.12"
  }
 },
 "nbformat": 4,
 "nbformat_minor": 5
}
